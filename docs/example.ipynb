{
 "cells": [
  {
   "cell_type": "markdown",
   "metadata": {},
   "source": [
    "# Using Passwordler\n",
    "\n",
    "Welcome to the Passwordler package documentation! This package offers a suite of functions designed to enhance your online password security. Here, we illustrate the usage of these functions with real-life examples, featuring Bob, a baseball fan who learned the hard way about the importance of strong passwords."
   ]
  },
  {
   "cell_type": "markdown",
   "metadata": {},
   "source": [
    "## Bob's Journey\n",
    "\n",
    "For the past 10 years, Bob has been using the password 'baseball' for all his online accounts. While this made them easy to remember, it also made them easy to hack. Unfortunately for Bob, some not-so-flattering photos of his trip to Cancun were sent to **all** of his Facebook friends. Due to this incident, Bob has decided to up his password security using our Passwordler functions. "
   ]
  },
  {
   "cell_type": "markdown",
   "metadata": {},
   "source": [
    "### Password Strength\n",
    "\n",
    "The function `password_strength` allows users to test the strength-rating of their passwords, giving ratings of 'Weak', 'Good', and 'Strong'. It takes one argument, `password`, the password as a string.\n",
    "\n",
    "#### Testing it out\n",
    "Bob begins by testing the strength of his previously used password, 'baseball'."
   ]
  },
  {
   "cell_type": "code",
   "execution_count": 1,
   "metadata": {},
   "outputs": [
    {
     "data": {
      "text/plain": [
       "'Your password is: Weak'"
      ]
     },
     "execution_count": 1,
     "metadata": {},
     "output_type": "execute_result"
    }
   ],
   "source": [
    "from passwordler.password_strength import password_strength\n",
    "\n",
    "password_strength('baseball')"
   ]
  },
  {
   "cell_type": "markdown",
   "metadata": {},
   "source": [
    "As we can see, his password was weak! No wonder they were able to hack his account. Next he tries a few more variations to see if he can create something stronger.\n",
    "\n",
    "***Note**: A password is classified as weak if it is found in our list of common passwords, or does not meet the criteria for a 'Good' password* "
   ]
  },
  {
   "cell_type": "code",
   "execution_count": 2,
   "metadata": {},
   "outputs": [
    {
     "data": {
      "text/plain": [
       "'Your password is: Good'"
      ]
     },
     "execution_count": 2,
     "metadata": {},
     "output_type": "execute_result"
    }
   ],
   "source": [
    "password_strength('Baseball4life')"
   ]
  },
  {
   "cell_type": "markdown",
   "metadata": {},
   "source": [
    "Almost there, but he really want a 'Strong' password.\n",
    "\n",
    "***Note**: A good password contains at least 8 characters and at least two capital letters, numbers or special characters in total.*"
   ]
  },
  {
   "cell_type": "code",
   "execution_count": 3,
   "metadata": {},
   "outputs": [
    {
     "data": {
      "text/plain": [
       "'Your password is: Strong'"
      ]
     },
     "execution_count": 3,
     "metadata": {},
     "output_type": "execute_result"
    }
   ],
   "source": [
    "password_strength('Baseball4life!')"
   ]
  },
  {
   "cell_type": "markdown",
   "metadata": {},
   "source": [
    "Finally! Something Bob can work with, he's found a password he likes that is also strong. But then Bob reads about our password generator and decides to give that a try instead.\n",
    "\n",
    "***Note**: A strong password has 12 or more characters and at least one capital letter, one number and one special character each.*"
   ]
  },
  {
   "cell_type": "markdown",
   "metadata": {},
   "source": [
    "### Generate Password\n",
    "\n",
    "The `generate_password` function allows users to create a secure, customized password. It has three optional arguments. The first argument, length, corresponds to the desired length of the password given as an integer. Its minimum and default length is 12 and it's maximum is 100. The second argument is include_symbols while the third argument is include_numbers. They both take a boolean value, indicating whether special characters and numbers should be included in the generated password."
   ]
  },
  {
   "cell_type": "markdown",
   "metadata": {},
   "source": [
    "#### First try: default settings\n",
    "\n",
    "To start out, Bob creates a password with the default settings. \n",
    "\n",
    "***Note**: This returns a password of length 12, with at least one uppercase letter, number and symbol.*"
   ]
  },
  {
   "cell_type": "code",
   "execution_count": 4,
   "metadata": {},
   "outputs": [
    {
     "data": {
      "text/plain": [
       "',tKC]m\"wDJ34'"
      ]
     },
     "execution_count": 4,
     "metadata": {},
     "output_type": "execute_result"
    }
   ],
   "source": [
    "from passwordler.generate_password import generate_password\n",
    "\n",
    "generate_password()"
   ]
  },
  {
   "cell_type": "markdown",
   "metadata": {},
   "source": [
    "#### Going for Length"
   ]
  },
  {
   "cell_type": "markdown",
   "metadata": {},
   "source": [
    "Intrigued, Bob decides to generate a much longer password, setting the `length` to its maximum, 100 characters."
   ]
  },
  {
   "cell_type": "code",
   "execution_count": 5,
   "metadata": {},
   "outputs": [
    {
     "data": {
      "text/plain": [
       "\"],rDfnF}g0K'{X9Nc;&&z![54=rB/eEiTkH$^c80_522>!:-*F?(N8w_Bv]J:q-2A&V:SzQNCR6Yk>/Z|,iL)pg/^1aZVhMv!ndI\""
      ]
     },
     "execution_count": 5,
     "metadata": {},
     "output_type": "execute_result"
    }
   ],
   "source": [
    "generate_password(length=100)"
   ]
  },
  {
   "cell_type": "markdown",
   "metadata": {},
   "source": [
    "#### Simplifying It"
   ]
  },
  {
   "cell_type": "markdown",
   "metadata": {},
   "source": [
    "While this was a fun, it is simply too long to be useful for Bob. Next, he experiments with the `include_symbols` and `include_numbers` arguments. He sets both to false, overriding the default settings. \n",
    "\n",
    "***Note**: This gives him a password with only letters: removing symbols and numbers.*"
   ]
  },
  {
   "cell_type": "code",
   "execution_count": 6,
   "metadata": {},
   "outputs": [
    {
     "data": {
      "text/plain": [
       "'NJfVKhgnrJYa'"
      ]
     },
     "execution_count": 6,
     "metadata": {},
     "output_type": "execute_result"
    }
   ],
   "source": [
    "generate_password(include_symbols=False, include_numbers=False)"
   ]
  },
  {
   "cell_type": "markdown",
   "metadata": {},
   "source": [
    "Ultimately, Bob decides to stick to his 'Baseball4life!' password from earlier, but wants to try out our encryption function to further increase his security."
   ]
  },
  {
   "cell_type": "markdown",
   "metadata": {},
   "source": [
    "### Encrypt a Password\n",
    "\n",
    "The `encrypt_password` function encrypts a message using a simple substitution cipher, by substituting each character with a corresponding character from a shuffled set. It uses the same set of characters as the decryption function, so they can work in tandem. Its first argument, `message`, requires a string input, while the second optional argument, `random_seed`, accepts an integer value."
   ]
  },
  {
   "cell_type": "markdown",
   "metadata": {},
   "source": [
    "#### First try: default settings\n",
    "\n",
    "Bob realizes that he needs to store his new password on his computer. However, he is worried that he might be hacked again so he decides to use the `Encrypt_Password` function. He tries the default setting first."
   ]
  },
  {
   "cell_type": "code",
   "execution_count": 1,
   "metadata": {},
   "outputs": [
    {
     "name": "stdout",
     "output_type": "stream",
     "text": [
      "Gh%YwhDDöDàdY \n"
     ]
    }
   ],
   "source": [
    "from passwordler.encrypt_password import encrypt_password\n",
    "\n",
    "# Encrypt a password with a default seed\n",
    "encrypted_password = encrypt_password(\"Baseball4life!\")\n",
    "print(encrypted_password)  # Prints the encrypted password"
   ]
  },
  {
   "cell_type": "markdown",
   "metadata": {},
   "source": [
    "What he didn’t know is that by not providing a random_seed argument, the default seed of 123 is used. \n",
    "\n",
    "***Note**: The random seed argument controls the shuffled character mapping.*"
   ]
  },
  {
   "cell_type": "markdown",
   "metadata": {},
   "source": [
    "#### Going for a customized seed\n",
    "\n",
    "Then Bob thought it might be better to customize the seed, so he chose a random number he likes (this should not be a lucky number, your date of birth or anything that others can easily guess). This means that he needs to store the seed and the encrypted password in two different places, but as long as it is a unique seed, the encrypted password is safe. Bob uses the seed 42428 on his next try."
   ]
  },
  {
   "cell_type": "code",
   "execution_count": 2,
   "metadata": {},
   "outputs": [
    {
     "name": "stdout",
     "output_type": "stream",
     "text": [
      "äMul MTT1T86l-\n"
     ]
    }
   ],
   "source": [
    "# Encrypt a password with a specific seed\n",
    "encrypted_password = encrypt_password(\"Baseball4life!\", 42428)\n",
    "print(encrypted_password)  # Prints the encrypted password using the specified seed"
   ]
  },
  {
   "cell_type": "markdown",
   "metadata": {},
   "source": [
    "### Decrypt a Password\n",
    "The `decrypt_password` function decrypts a message that has previously been encrypted with the `encrypt_password` function. It uses the same seed that has been used for the `encrypt_password`. It takes two arguments, the first `encrypted_message` is the encrypted password passed in as a string, the second `random_seed` is the seed used for the encryption passed in as an integer value.\n",
    "\n",
    "#### First try: default setting\n",
    "The next time Bob tries to log in to Facebook, he can't remember his password. Bob knows where he saved his encrypted password on his computer, but he cannot find the seed,so he tries to decrypt his encrypted password with the default settings.\n",
    "\n",
    "***Note**: if no random seed argument is given, the default of 123 will be used.*"
   ]
  },
  {
   "cell_type": "code",
   "execution_count": 14,
   "metadata": {},
   "outputs": [
    {
     "data": {
      "text/plain": [
       "'I3:-!3vvnväk-5'"
      ]
     },
     "execution_count": 14,
     "metadata": {},
     "output_type": "execute_result"
    }
   ],
   "source": [
    "from passwordler.decrypt_password import decrypt_password\n",
    "decrypt_password(encrypted_password)"
   ]
  },
  {
   "cell_type": "markdown",
   "metadata": {},
   "source": [
    "#### Customized Seed\n",
    "As we can see, that does not look like his original password. So Bob has to search his computer to find the seed he used. Fortunately, he finds it and tries to decrypt his password again."
   ]
  },
  {
   "cell_type": "code",
   "execution_count": 15,
   "metadata": {},
   "outputs": [
    {
     "data": {
      "text/plain": [
       "'Baseball4life!'"
      ]
     },
     "execution_count": 15,
     "metadata": {},
     "output_type": "execute_result"
    }
   ],
   "source": [
    "decrypt_password(encrypted_password, 42428)"
   ]
  },
  {
   "cell_type": "markdown",
   "metadata": {},
   "source": [
    "Boo-yah! That is the original password! With the help of Passwordler, Bob is now protected against any embarrassing future mishaps. "
   ]
  },
  {
   "cell_type": "markdown",
   "metadata": {},
   "source": [
    "### Final remarks\n",
    "\n",
    "We hope you found these examples informative and learned through Bob's password mistakes. If anything remains unclear, we suggest reviewing the function documentation. "
   ]
  }
 ],
 "metadata": {
  "kernelspec": {
   "display_name": "passwordler",
   "language": "python",
   "name": "python3"
  },
  "language_info": {
   "codemirror_mode": {
    "name": "ipython",
    "version": 3
   },
   "file_extension": ".py",
   "mimetype": "text/x-python",
   "name": "python",
   "nbconvert_exporter": "python",
   "pygments_lexer": "ipython3",
   "version": "3.11.7"
  }
 },
 "nbformat": 4,
 "nbformat_minor": 4
}
